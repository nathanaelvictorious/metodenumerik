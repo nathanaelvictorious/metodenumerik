{
  "nbformat": 4,
  "nbformat_minor": 0,
  "metadata": {
    "colab": {
      "name": "Interpolasi Newton",
      "provenance": [],
      "collapsed_sections": [],
      "authorship_tag": "ABX9TyOpBmg2nOWR0AWwCTeVs3s7",
      "include_colab_link": true
    },
    "kernelspec": {
      "name": "python3",
      "display_name": "Python 3"
    }
  },
  "cells": [
    {
      "cell_type": "markdown",
      "metadata": {
        "id": "view-in-github",
        "colab_type": "text"
      },
      "source": [
        "<a href=\"https://colab.research.google.com/github/nathanaelvictorious/metodenumerik/blob/master/Interpolasi_Newton.ipynb\" target=\"_parent\"><img src=\"https://colab.research.google.com/assets/colab-badge.svg\" alt=\"Open In Colab\"/></a>"
      ]
    },
    {
      "cell_type": "code",
      "metadata": {
        "id": "nMt7lHTvvVdY",
        "outputId": "e7e578a4-ba1b-4392-907a-aca085583775",
        "colab": {
          "base_uri": "https://localhost:8080/",
          "height": 238
        }
      },
      "source": [
        "import math\n",
        "\n",
        "def calculate_b(index, data, nilai):\n",
        "    if len(index) == 1: \n",
        "        return nilai[index[0]]\n",
        "\n",
        "    f1 = calculate_b(index[1:], data, nilai)\n",
        "    f0 = calculate_b(index[:-1], data, nilai)\n",
        "\n",
        "    x1 = data[index[-1]]\n",
        "    x0 = data[index[0]]\n",
        "\n",
        "    b = (f1 - f0) / (x1 - x0)\n",
        "    return b\n",
        "\n",
        "def calculate_x(tebakan, index, data, iterasi):\n",
        "    total = 1\n",
        "    iter_x = 0\n",
        "    while iter_x < iterasi: \n",
        "        total = total * (tebakan - data[index[0+iter_x]])\n",
        "        iter_x += 1 \n",
        "    return total\n",
        "\n",
        "def calculate_interpol(tebakan, orde, data, nilai):\n",
        "    i = 0\n",
        "    while data[i] < tebakan:\n",
        "        i += 1\n",
        "    i -= 1\n",
        "    print(\"Titik sebelum tebakan adalah: \", i) \n",
        "\n",
        "    titik = orde + 1\n",
        "    index = [i]\n",
        "    while len(index) < titik:\n",
        "        index.append(index[-1]+1)\n",
        "    print(\"Indexnya ialah: \", index) \n",
        "\n",
        "    total = 0\n",
        "    iterasi = 1\n",
        "    total += nilai[index[0]]\n",
        "\n",
        "    while iterasi < titik: \n",
        "        iterasi += 1 \n",
        "        b = calculate_b(index[:iterasi], data, nilai)\n",
        "        print(\"Ini hasil hitung_b untuk index:\", index[:iterasi], \".........\", b) \n",
        "\n",
        "        total += b * calculate_x(tebakan, index, data, iterasi-1)\n",
        "\n",
        "    return total\n",
        "\n",
        "\n",
        "panjang_tabel = int(input(\"Masukkan panjang tabel = \"))\n",
        "\n",
        "data = []\n",
        "nilai = []\n",
        "\n",
        "for i in range(panjang_tabel) :\n",
        "  data.append(int(input(\"Masukkan Data ke - \" + str(i+1) + \" = \")))\n",
        "  nilai.append(int(input(\"Masukkan Nilai ke - \" + str(i+1) + \" = \")))\n",
        "\n",
        "#kalau mau test running apa gak pake data ini aja\n",
        "'''\n",
        "data = [8.8, 9.6, 10.5, 12, 12.4, 12.8, 13.2]\n",
        "nilai = [30.8, 37.1, 45.2, 58.1, 60.2, 64.4, 68.8]\n",
        "'''\n",
        "\n",
        "print(\"Data : \", data)\n",
        "print(\"Nilai : \", nilai)\n",
        "orde = int(input(\"Masukkan orde: \")) \n",
        "\n",
        "tebakan = float(input(\"Masukkan nilai tebakan = \")) #kalau mau test running apa gak tebakannya = 11.5 ya\n",
        "print(\"Hasil interpolasi: \", calculate_interpol(tebakan, orde, data, nilai))\n",
        "\n",
        "nilai_asli = input(\"Masukkan nilai sebenarnya: \") \n",
        "if (nilai_asli.isdecimal):\n",
        "    nilai_asli = float(nilai_asli)\n",
        "    et = abs((nilai_asli - calculate_interpol(tebakan, orde, data, nilai)) / nilai_asli) *100\n",
        "    print(\"Et = \",et, \"%\")"
      ],
      "execution_count": 15,
      "outputs": [
        {
          "output_type": "stream",
          "text": [
            "Data :  [8.8, 9.6, 10.5, 12, 12.4, 12.8, 13.2]\n",
            "Nilai :  [30.8, 37.1, 45.2, 58.1, 60.2, 64.4, 68.8]\n",
            "Masukkan orde: 1\n",
            "Masukkan nilai tebakan = 11.5\n",
            "Titik sebelum tebakan adalah:  2\n",
            "Indexnya ialah:  [2, 3]\n",
            "Ini hasil hitung_b untuk index: [2, 3] ......... 8.6\n",
            "Hasil interpolasi:  53.800000000000004\n",
            "Masukkan nilai sebenarnya: 55\n",
            "Titik sebelum tebakan adalah:  2\n",
            "Indexnya ialah:  [2, 3]\n",
            "Ini hasil hitung_b untuk index: [2, 3] ......... 8.6\n",
            "Et =  2.181818181818174 %\n"
          ],
          "name": "stdout"
        }
      ]
    }
  ]
}